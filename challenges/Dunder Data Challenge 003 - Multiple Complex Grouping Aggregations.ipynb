{
 "cells": [
  {
   "cell_type": "markdown",
   "metadata": {},
   "source": [
    "# Multiple Custom Grouping Aggregations\n",
    "\n",
    "This challenge is going to be fairly difficult, but should answer a question that many pandas users face - What is the best way to do a grouping operation that does many custom aggregations? In this context, a 'custom aggregation' is defined as one that is not directly available to use from pandas and one that you must write a custom function for. \n",
    "\n",
    "In Pandas Challenge 1, a single aggregation, which required a custom grouping function, was the desired result. In this challenge, you'll need to make several aggregations when grouping. There are a few different solutions to this problem, but depending on how you arrive at your solution, there could arise enormous performance differences. I am looking for a compact, readable solution with very good performance.\n",
    "\n",
    "### Sales Data\n",
    "\n",
    "In this challenge, you will be working with some mock sales data found in the sales.csv file. It contains 200,000 rows and 9 columns."
   ]
  },
  {
   "cell_type": "code",
   "execution_count": 1,
   "metadata": {},
   "outputs": [],
   "source": [
    "import pandas as pd"
   ]
  },
  {
   "cell_type": "code",
   "execution_count": 2,
   "metadata": {},
   "outputs": [
    {
     "data": {
      "text/html": [
       "<div>\n",
       "<style scoped>\n",
       "    .dataframe tbody tr th:only-of-type {\n",
       "        vertical-align: middle;\n",
       "    }\n",
       "\n",
       "    .dataframe tbody tr th {\n",
       "        vertical-align: top;\n",
       "    }\n",
       "\n",
       "    .dataframe thead th {\n",
       "        text-align: right;\n",
       "    }\n",
       "</style>\n",
       "<table border=\"1\" class=\"dataframe\">\n",
       "  <thead>\n",
       "    <tr style=\"text-align: right;\">\n",
       "      <th></th>\n",
       "      <th>customer_id</th>\n",
       "      <th>date</th>\n",
       "      <th>country</th>\n",
       "      <th>region</th>\n",
       "      <th>delivery_type</th>\n",
       "      <th>cost_type</th>\n",
       "      <th>duration</th>\n",
       "      <th>revenue</th>\n",
       "      <th>cost</th>\n",
       "    </tr>\n",
       "  </thead>\n",
       "  <tbody>\n",
       "    <tr>\n",
       "      <td>0</td>\n",
       "      <td>13763</td>\n",
       "      <td>2019-03-25</td>\n",
       "      <td>Japan</td>\n",
       "      <td>F</td>\n",
       "      <td>slow</td>\n",
       "      <td>expert</td>\n",
       "      <td>120.0</td>\n",
       "      <td>553</td>\n",
       "      <td>295</td>\n",
       "    </tr>\n",
       "    <tr>\n",
       "      <td>1</td>\n",
       "      <td>13673</td>\n",
       "      <td>2019-12-06</td>\n",
       "      <td>United Kingdom</td>\n",
       "      <td>I</td>\n",
       "      <td>slow</td>\n",
       "      <td>experienced</td>\n",
       "      <td>120.0</td>\n",
       "      <td>895</td>\n",
       "      <td>262</td>\n",
       "    </tr>\n",
       "    <tr>\n",
       "      <td>2</td>\n",
       "      <td>10287</td>\n",
       "      <td>2018-09-04</td>\n",
       "      <td>United States</td>\n",
       "      <td>I</td>\n",
       "      <td>slow</td>\n",
       "      <td>novice</td>\n",
       "      <td>180.0</td>\n",
       "      <td>857</td>\n",
       "      <td>260</td>\n",
       "    </tr>\n",
       "    <tr>\n",
       "      <td>3</td>\n",
       "      <td>14298</td>\n",
       "      <td>2018-06-21</td>\n",
       "      <td>United States</td>\n",
       "      <td>F</td>\n",
       "      <td>fastest</td>\n",
       "      <td>expert</td>\n",
       "      <td>120.0</td>\n",
       "      <td>741</td>\n",
       "      <td>238</td>\n",
       "    </tr>\n",
       "    <tr>\n",
       "      <td>4</td>\n",
       "      <td>11523</td>\n",
       "      <td>2019-01-05</td>\n",
       "      <td>United Kingdom</td>\n",
       "      <td>A</td>\n",
       "      <td>fast</td>\n",
       "      <td>expert</td>\n",
       "      <td>120.0</td>\n",
       "      <td>942</td>\n",
       "      <td>263</td>\n",
       "    </tr>\n",
       "  </tbody>\n",
       "</table>\n",
       "</div>"
      ],
      "text/plain": [
       "   customer_id       date         country region delivery_type    cost_type  \\\n",
       "0        13763 2019-03-25           Japan      F          slow       expert   \n",
       "1        13673 2019-12-06  United Kingdom      I          slow  experienced   \n",
       "2        10287 2018-09-04   United States      I          slow       novice   \n",
       "3        14298 2018-06-21   United States      F       fastest       expert   \n",
       "4        11523 2019-01-05  United Kingdom      A          fast       expert   \n",
       "\n",
       "   duration  revenue  cost  \n",
       "0     120.0      553   295  \n",
       "1     120.0      895   262  \n",
       "2     180.0      857   260  \n",
       "3     120.0      741   238  \n",
       "4     120.0      942   263  "
      ]
     },
     "execution_count": 2,
     "metadata": {},
     "output_type": "execute_result"
    }
   ],
   "source": [
    "df = pd.read_csv('../data/sales.csv', parse_dates=['date'])\n",
    "df.head()"
   ]
  },
  {
   "cell_type": "code",
   "execution_count": 3,
   "metadata": {},
   "outputs": [
    {
     "data": {
      "text/plain": [
       "(200000, 9)"
      ]
     },
     "execution_count": 3,
     "metadata": {},
     "output_type": "execute_result"
    }
   ],
   "source": [
    "df.shape"
   ]
  },
  {
   "cell_type": "markdown",
   "metadata": {},
   "source": [
    "### Challenge\n",
    "\n",
    "There are many aggregations that you will need to return and it will take some time to understand what they are and how to return them. The following definitions for two time periods will be used throughout the aggregations.\n",
    "\n",
    "Period **2019H1** is defined as the time period beginning January 1, 2019 and ending June 30, 2019.\n",
    "Period **2018H1** is defined as the time period beginning January 1, 2018 and ending June 30, 2018.\n",
    "\n",
    "### Aggregations\n",
    "Now, I will list all the aggregations that are expected to be returned. Each bullet point represents a single column. Use the first word after the bullet point as the new column name.\n",
    "\n",
    "For every country and region, return the following:\n",
    "* recency: Number of days between today's date (9/9/2019) and the maximum value of the 'date' column \n",
    "* fast_and_fastest: Number of unique customer_id in period 2019H1 with delivery_type either 'fast' or 'fastest'\n",
    "* rev_2019: Total revenue for the period 2019H1\n",
    "* rev_2018: Total revenue for the period 2018H1\n",
    "* cost_2019: Total cost for period 2019H1\n",
    "* cost_2019_exp: Total cost for period 2019H1 with cost_type 'expert'\n",
    "* other_cost: Difference between cost_2019 and cost_2019_exp\n",
    "* rev_per_60: Total of revenue when duration equals 60 in period 2019H1 divided by number of unique customer_id when duration equals 60 in period 2019H1 \n",
    "* profit_margin: Take the difference of rev_2019 and cost_2019_exp then divide by rev_2019. Return as percentage\n",
    "* cost_exp_per_60: Total of cost when duration is 60 and cost_type is 'expert' in period 2019H1 divided by the number of unique customer_id when duration equals 60 and cost_type is 'expert' in period 2019H1 \n",
    "* growth: Find the percentage growth from revenue in period 2019H1 compared to the revenue in period 2018H1"
   ]
  },
  {
   "cell_type": "code",
   "execution_count": null,
   "metadata": {},
   "outputs": [],
   "source": []
  }
 ],
 "metadata": {
  "kernelspec": {
   "display_name": "Python 3",
   "language": "python",
   "name": "python3"
  },
  "language_info": {
   "codemirror_mode": {
    "name": "ipython",
    "version": 3
   },
   "file_extension": ".py",
   "mimetype": "text/x-python",
   "name": "python",
   "nbconvert_exporter": "python",
   "pygments_lexer": "ipython3",
   "version": "3.7.3"
  }
 },
 "nbformat": 4,
 "nbformat_minor": 2
}
